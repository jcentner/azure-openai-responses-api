{
  "cells": [
    {
      "cell_type": "markdown",
      "metadata": {},
      "source": [
        "# Responses API + Code Interpreter: Download a generated file\n",
        "\n",
        "This notebook mirrors the single-script demo and shows each step."
      ]
    },
    {
      "cell_type": "code",
      "metadata": {},
      "source": [
        "# Setup: install (uncomment if needed)\n",
        "# !pip install --upgrade openai azure-identity\n",
        "\n",
        "from pathlib import Path\n",
        "from openai import AzureOpenAI, get_bearer_token_provider  # type: ignore\n",
        "from azure.identity import DefaultAzureCredential  # type: ignore\n",
        "\n",
        "ENDPOINT = \"https://<resource-name>.openai.azure.com/openai/v1/\"\n",
        "API_VERSION = \"preview\"\n",
        "DEPLOYMENT = \"gpt-4o\"\n",
        "USE_API_KEY = False  # flip to True to use API key instead of DefaultAzureCredential\n",
        "AZURE_OPENAI_API_KEY = \"<paste-api-key-here-if-you-switch-to-key-mode>\"\n",
        "SCOPE = \"https://cognitiveservices.azure.com/.default\"\n",
        "DOWNLOAD_DIR = Path(\"./downloads\")\n",
        "\n",
        "print(\"Endpoint:\", ENDPOINT)\n",
        "print(\"API version:\", API_VERSION)\n",
        "print(\"Deployment:\", DEPLOYMENT)\n",
        "\n",
        "if USE_API_KEY:\n",
        "    client = AzureOpenAI(base_url=ENDPOINT, api_key=AZURE_OPENAI_API_KEY, api_version=API_VERSION)\n",
        "else:\n",
        "    token_provider = get_bearer_token_provider(DefaultAzureCredential(), SCOPE)\n",
        "    client = AzureOpenAI(base_url=ENDPOINT, azure_ad_token_provider=token_provider, api_version=API_VERSION)\n"
      ],
      "execution_count": null,
      "outputs": []
    },
    {
      "cell_type": "code",
      "metadata": {},
      "source": [
        "# Step 1: Create a response that writes a file via Code Interpreter\n",
        "instructions = \"You are a personal assistant that writes and runs code using the Python tool to answer the question.\"\n",
        "response = client.responses.create(\n",
        "    model=DEPLOYMENT,\n",
        "    tools=[{\"type\": \"code_interpreter\", \"container\": {\"type\": \"auto\"}}],\n",
        "    instructions=instructions,\n",
        "    input=\"Please use the Python tool to create a file called test.txt and write the word 'hello world' to it.\",\n",
        ")\n",
        "print(\"Response ID:\", getattr(response, \"id\", None))\n",
        "if getattr(response, \"output_text\", None):\n",
        "    print(\"Assistant says:\", response.output_text[:200])"
      ],
      "execution_count": null,
      "outputs": []
    },
    {
      "cell_type": "code",
      "metadata": {},
      "source": [
        "# Step 2: Inspect annotations to find files\n",
        "from typing import Any, Dict, List\n",
        "\n",
        "def collect_file_annotations(obj: Any) -> List[Dict[str, Any]]:\n",
        "    results: List[Dict[str, Any]] = []\n",
        "    def walk(x: Any) -> None:\n",
        "        if isinstance(x, dict):\n",
        "            if \"file_id\" in x:\n",
        "                results.append({\n",
        "                    \"filename\": x.get(\"filename\") or x.get(\"path\") or \"unknown\",\n",
        "                    \"file_id\": x.get(\"file_id\"),\n",
        "                    \"container_id\": x.get(\"container_id\"),\n",
        "                })\n",
        "            for v in x.values():\n",
        "                walk(v)\n",
        "            return\n",
        "        if isinstance(x, (list, tuple, set)):\n",
        "            for v in x:\n",
        "                walk(v)\n",
        "            return\n",
        "        for attr in (\"annotations\", \"content\", \"output\", \"message\", \"messages\"):\n",
        "            if hasattr(x, attr):\n",
        "                try:\n",
        "                    walk(getattr(x, attr))\n",
        "                except Exception:\n",
        "                    pass\n",
        "        if hasattr(x, \"__dict__\"):\n",
        "            try:\n",
        "                walk(vars(x))\n",
        "            except Exception:\n",
        "                pass\n",
        "    walk(obj)\n",
        "    seen = set()\n",
        "    dedup: List[Dict[str, Any]] = []\n",
        "    for r in results:\n",
        "        fid = r.get(\"file_id\")\n",
        "        if fid and fid not in seen:\n",
        "            seen.add(fid)\n",
        "            dedup.append(r)\n",
        "    return dedup\n",
        "\n",
        "files = collect_file_annotations(response.output)\n",
        "files"
      ],
      "execution_count": null,
      "outputs": []
    },
    {
      "cell_type": "code",
      "metadata": {},
      "source": [
        "# Step 3: Download files to ./downloads\n",
        "DOWNLOAD_DIR.mkdir(exist_ok=True)\n",
        "for f in files:\n",
        "    filename = f.get(\"filename\") or \"unnamed.bin\"\n",
        "    file_id = f.get(\"file_id\")\n",
        "    container_id = f.get(\"container_id\")\n",
        "    if not (file_id and container_id):\n",
        "        print(\"Skipping missing metadata:\", f)\n",
        "        continue\n",
        "    retrieved = client.containers.files.content.retrieve(container_id=container_id, file_id=file_id)\n",
        "    data = None\n",
        "    for attr in (\"content\", \"body\", \"data\"):\n",
        "        if hasattr(retrieved, attr):\n",
        "            data = getattr(retrieved, attr)\n",
        "            break\n",
        "    if data is None and isinstance(retrieved, (bytes, bytearray)):\n",
        "        data = bytes(retrieved)\n",
        "    if data is None:\n",
        "        print(\"Could not locate bytes for\", filename)\n",
        "        continue\n",
        "    out_path = DOWNLOAD_DIR / filename\n",
        "    out_path.write_bytes(data)\n",
        "    print(\"Saved\", out_path.resolve(), f\"({len(data)} bytes)\")"
      ],
      "execution_count": null,
      "outputs": []
    },
    {
      "cell_type": "code",
      "metadata": {},
      "source": [
        "# Step 4: Quick verification (print first line of small text files)\n",
        "for p in DOWNLOAD_DIR.glob(\"*\"):\n",
        "    try:\n",
        "        if p.suffix.lower() in {\".txt\", \".csv\", \".md\"} and p.stat().st_size < 64 * 1024:\n",
        "            print(p.name, \"->\", p.read_text(errors=\"replace\").splitlines()[0][:120])\n",
        "        else:\n",
        "            print(p.name, \"->\", p.stat().st_size, \"bytes\")\n",
        "    except Exception as e:\n",
        "        print(\"Could not read\", p.name, e)"
      ],
      "execution_count": null,
      "outputs": []
    }
  ],
  "metadata": {
    "kernelspec": {
      "display_name": "Python 3",
      "language": "python",
      "name": "python3"
    },
    "language_info": {
      "name": "python",
      "version": "3.x"
    }
  },
  "nbformat": 4,
  "nbformat_minor": 5
}